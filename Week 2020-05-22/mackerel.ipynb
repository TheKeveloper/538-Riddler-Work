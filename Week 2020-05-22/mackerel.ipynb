{
 "cells": [
  {
   "cell_type": "markdown",
   "metadata": {},
   "source": [
    "# Code for solving Riddler Classic Week of May 22, 2015\n",
    "[Problem](https://fivethirtyeight.com/features/somethings-fishy-in-the-state-of-the-riddler/)"
   ]
  },
  {
   "cell_type": "code",
   "execution_count": 1,
   "metadata": {},
   "outputs": [],
   "source": [
    "import string\n",
    "import itertools"
   ]
  },
  {
   "cell_type": "code",
   "execution_count": 2,
   "metadata": {},
   "outputs": [],
   "source": [
    "def read_word_list():\n",
    "    with open(\"word.list\", \"r\") as f:\n",
    "        return [word.replace(\"\\n\", \"\") for word in f]"
   ]
  },
  {
   "cell_type": "code",
   "execution_count": 3,
   "metadata": {},
   "outputs": [],
   "source": [
    "def read_states_list():\n",
    "    with open(\"states.list\", \"r\") as f:\n",
    "        return [state.lower().replace(\"\\n\", \"\").replace(\" \", \"\") for state in f]"
   ]
  },
  {
   "cell_type": "code",
   "execution_count": 4,
   "metadata": {},
   "outputs": [],
   "source": [
    "words = read_word_list()"
   ]
  },
  {
   "cell_type": "code",
   "execution_count": 5,
   "metadata": {},
   "outputs": [],
   "source": [
    "include_dc = False\n",
    "states = read_states_list()\n",
    "if include_dc:\n",
    "    states.append(\"washingtondc\")"
   ]
  },
  {
   "cell_type": "code",
   "execution_count": 6,
   "metadata": {},
   "outputs": [],
   "source": [
    "# gets unique letters in ascending order\n",
    "word_sets = [\"\".join(sorted(list(set(word)))) for word in words]"
   ]
  },
  {
   "cell_type": "code",
   "execution_count": 7,
   "metadata": {},
   "outputs": [],
   "source": [
    "letter_states = {c : set() for c in string.ascii_lowercase}\n",
    "for state in states: \n",
    "    for letter in state:\n",
    "        letter_states[letter].add(state)"
   ]
  },
  {
   "cell_type": "code",
   "execution_count": 8,
   "metadata": {},
   "outputs": [],
   "source": [
    "state_set = set(states)"
   ]
  },
  {
   "cell_type": "code",
   "execution_count": 9,
   "metadata": {},
   "outputs": [],
   "source": [
    "state_mackerels = {state : [] for state in states}\n",
    "explored_words = set()\n",
    "total = len(word_sets)\n",
    "for i, word in enumerate(word_sets):\n",
    "    if word in explored_words:\n",
    "        continue\n",
    "    # create a set to keep track of which states have a letter in common\n",
    "    cur_set = set()\n",
    "    for letter in word:\n",
    "        cur_set = cur_set.union(letter_states[letter])\n",
    "    if len(cur_set) == (50 if include_dc else 49):\n",
    "        # We've got a mackerel!\n",
    "        state = state_set.difference(cur_set).pop()\n",
    "        state_mackerels[state].append(words[i])\n",
    "    else: \n",
    "        # probably not the most efficient to have this else case\n",
    "        # but we need to make sure that if it is a mackerel, we get all other mackerels with the same letters\n",
    "        explored_words.add(word)"
   ]
  },
  {
   "cell_type": "code",
   "execution_count": 10,
   "metadata": {},
   "outputs": [],
   "source": [
    "# concatenate all mackerels into a single list with the state and the length\n",
    "all_mackerels = list(itertools.chain(*[[(key, value, len(value)) for value in l] for key, l in state_mackerels.items()]))"
   ]
  },
  {
   "cell_type": "code",
   "execution_count": 11,
   "metadata": {},
   "outputs": [],
   "source": [
    "sorted_mackerels = sorted(all_mackerels, key = lambda w: w[2], reverse = True)"
   ]
  },
  {
   "cell_type": "code",
   "execution_count": 12,
   "metadata": {},
   "outputs": [
    {
     "data": {
      "text/plain": [
       "45385"
      ]
     },
     "execution_count": 12,
     "metadata": {},
     "output_type": "execute_result"
    }
   ],
   "source": [
    "len(sorted_mackerels)"
   ]
  },
  {
   "cell_type": "code",
   "execution_count": 13,
   "metadata": {},
   "outputs": [
    {
     "data": {
      "text/plain": [
       "[('alabama', 'counterproductivenesses', 23),\n",
       " ('mississippi', 'hydrochlorofluorocarbon', 23),\n",
       " ('alabama', 'counterproductiveness', 21),\n",
       " ('alabama', 'unconscientiousnesses', 21),\n",
       " ('alabama', 'counterconditionings', 20),\n",
       " ('alabama', 'deoxycorticosterones', 20),\n",
       " ('alabama', 'hyperconsciousnesses', 20),\n",
       " ('alabama', 'hypersensitivenesses', 20),\n",
       " ('alabama', 'interconnectednesses', 20),\n",
       " ('alabama', 'nondestructivenesses', 20)]"
      ]
     },
     "execution_count": 13,
     "metadata": {},
     "output_type": "execute_result"
    }
   ],
   "source": [
    "sorted_mackerels[:10]"
   ]
  },
  {
   "cell_type": "code",
   "execution_count": 14,
   "metadata": {},
   "outputs": [],
   "source": [
    "sorted_states = sorted([(key, len(value)) for key, value in state_mackerels.items()], key = lambda x: x[1], reverse = True)"
   ]
  },
  {
   "cell_type": "code",
   "execution_count": 15,
   "metadata": {},
   "outputs": [
    {
     "data": {
      "text/plain": [
       "[('ohio', 11342),\n",
       " ('alabama', 8274),\n",
       " ('utah', 6619),\n",
       " ('mississippi', 4863),\n",
       " ('hawaii', 1763),\n",
       " ('kentucky', 1580),\n",
       " ('wyoming', 1364),\n",
       " ('tennessee', 1339),\n",
       " ('alaska', 1261),\n",
       " ('nevada', 1229)]"
      ]
     },
     "execution_count": 15,
     "metadata": {},
     "output_type": "execute_result"
    }
   ],
   "source": [
    "sorted_states[:10]"
   ]
  }
 ],
 "metadata": {
  "kernelspec": {
   "display_name": "Python 3",
   "language": "python",
   "name": "python3"
  },
  "language_info": {
   "codemirror_mode": {
    "name": "ipython",
    "version": 3
   },
   "file_extension": ".py",
   "mimetype": "text/x-python",
   "name": "python",
   "nbconvert_exporter": "python",
   "pygments_lexer": "ipython3",
   "version": "3.7.7"
  }
 },
 "nbformat": 4,
 "nbformat_minor": 4
}
