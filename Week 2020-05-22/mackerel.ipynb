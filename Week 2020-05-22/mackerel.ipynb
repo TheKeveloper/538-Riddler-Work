{
 "cells": [
  {
   "cell_type": "markdown",
   "metadata": {},
   "source": [
    "# Code for solving Riddler Classic Week of May 22, 2015\n",
    "[Problem](https://fivethirtyeight.com/features/somethings-fishy-in-the-state-of-the-riddler/)"
   ]
  },
  {
   "cell_type": "code",
   "execution_count": 22,
   "metadata": {},
   "outputs": [],
   "source": [
    "import string\n",
    "import itertools\n",
    "import matplotlib.pyplot as plt\n",
    "from collections import Counter"
   ]
  },
  {
   "cell_type": "code",
   "execution_count": 2,
   "metadata": {},
   "outputs": [],
   "source": [
    "def read_word_list():\n",
    "    with open(\"word.list\", \"r\") as f:\n",
    "        return [word.replace(\"\\n\", \"\") for word in f]"
   ]
  },
  {
   "cell_type": "code",
   "execution_count": 3,
   "metadata": {},
   "outputs": [],
   "source": [
    "def read_states_list():\n",
    "    with open(\"states.list\", \"r\") as f:\n",
    "        return [state.lower().replace(\"\\n\", \"\").replace(\" \", \"\") for state in f]"
   ]
  },
  {
   "cell_type": "code",
   "execution_count": 4,
   "metadata": {},
   "outputs": [],
   "source": [
    "words = read_word_list()"
   ]
  },
  {
   "cell_type": "code",
   "execution_count": 5,
   "metadata": {},
   "outputs": [],
   "source": [
    "include_dc = False\n",
    "states = read_states_list()\n",
    "if include_dc:\n",
    "    states.append(\"washingtondc\")"
   ]
  },
  {
   "cell_type": "code",
   "execution_count": 6,
   "metadata": {},
   "outputs": [],
   "source": [
    "# gets unique letters in ascending order\n",
    "word_sets = [\"\".join(sorted(list(set(word)))) for word in words]"
   ]
  },
  {
   "cell_type": "code",
   "execution_count": 7,
   "metadata": {},
   "outputs": [],
   "source": [
    "letter_states = {c : set() for c in string.ascii_lowercase}\n",
    "for state in states: \n",
    "    for letter in state:\n",
    "        letter_states[letter].add(state)"
   ]
  },
  {
   "cell_type": "code",
   "execution_count": 8,
   "metadata": {},
   "outputs": [],
   "source": [
    "state_set = set(states)"
   ]
  },
  {
   "cell_type": "code",
   "execution_count": 9,
   "metadata": {},
   "outputs": [],
   "source": [
    "state_mackerels = {state : [] for state in states}\n",
    "explored_words = set()\n",
    "total = len(word_sets)\n",
    "for i, word in enumerate(word_sets):\n",
    "    if word in explored_words:\n",
    "        continue\n",
    "    # create a set to keep track of which states have a letter in common\n",
    "    cur_set = set()\n",
    "    for letter in word:\n",
    "        cur_set = cur_set.union(letter_states[letter])\n",
    "    if len(cur_set) == (50 if include_dc else 49):\n",
    "        # We've got a mackerel!\n",
    "        state = state_set.difference(cur_set).pop()\n",
    "        state_mackerels[state].append(words[i])\n",
    "    else: \n",
    "        # probably not the most efficient to have this else case\n",
    "        # but we need to make sure that if it is a mackerel, we get all other mackerels with the same letters\n",
    "        explored_words.add(word)"
   ]
  },
  {
   "cell_type": "code",
   "execution_count": 10,
   "metadata": {},
   "outputs": [],
   "source": [
    "# concatenate all mackerels into a single list with the state and the length\n",
    "all_mackerels = list(itertools.chain(*[[(key, value, len(value)) for value in l] for key, l in state_mackerels.items()]))"
   ]
  },
  {
   "cell_type": "code",
   "execution_count": 11,
   "metadata": {},
   "outputs": [],
   "source": [
    "sorted_mackerels = sorted(all_mackerels, key = lambda w: w[2], reverse = True)"
   ]
  },
  {
   "cell_type": "code",
   "execution_count": 12,
   "metadata": {},
   "outputs": [
    {
     "data": {
      "text/plain": [
       "45385"
      ]
     },
     "execution_count": 12,
     "metadata": {},
     "output_type": "execute_result"
    }
   ],
   "source": [
    "len(sorted_mackerels)"
   ]
  },
  {
   "cell_type": "code",
   "execution_count": 13,
   "metadata": {},
   "outputs": [
    {
     "data": {
      "text/plain": [
       "[('alabama', 'counterproductivenesses', 23),\n",
       " ('mississippi', 'hydrochlorofluorocarbon', 23),\n",
       " ('alabama', 'counterproductiveness', 21),\n",
       " ('alabama', 'unconscientiousnesses', 21),\n",
       " ('alabama', 'counterconditionings', 20),\n",
       " ('alabama', 'deoxycorticosterones', 20),\n",
       " ('alabama', 'hyperconsciousnesses', 20),\n",
       " ('alabama', 'hypersensitivenesses', 20),\n",
       " ('alabama', 'interconnectednesses', 20),\n",
       " ('alabama', 'nondestructivenesses', 20)]"
      ]
     },
     "execution_count": 13,
     "metadata": {},
     "output_type": "execute_result"
    }
   ],
   "source": [
    "sorted_mackerels[:10]"
   ]
  },
  {
   "cell_type": "code",
   "execution_count": 14,
   "metadata": {},
   "outputs": [],
   "source": [
    "sorted_states = sorted([(key, len(value)) for key, value in state_mackerels.items()], key = lambda x: x[1], reverse = True)"
   ]
  },
  {
   "cell_type": "code",
   "execution_count": 15,
   "metadata": {},
   "outputs": [
    {
     "data": {
      "text/plain": [
       "[('ohio', 11342),\n",
       " ('alabama', 8274),\n",
       " ('utah', 6619),\n",
       " ('mississippi', 4863),\n",
       " ('hawaii', 1763),\n",
       " ('kentucky', 1580),\n",
       " ('wyoming', 1364),\n",
       " ('tennessee', 1339),\n",
       " ('alaska', 1261),\n",
       " ('nevada', 1229)]"
      ]
     },
     "execution_count": 15,
     "metadata": {},
     "output_type": "execute_result"
    }
   ],
   "source": [
    "sorted_states[:10]"
   ]
  },
  {
   "cell_type": "code",
   "execution_count": 16,
   "metadata": {},
   "outputs": [],
   "source": [
    "def avg_len(l):\n",
    "    if l == []:\n",
    "        return 0\n",
    "    return sum([len(x) for x in l]) / len(l)"
   ]
  },
  {
   "cell_type": "code",
   "execution_count": 17,
   "metadata": {},
   "outputs": [],
   "source": [
    "avg_mackerel_lengths = sorted([(key, avg_len(value), len(value)) for key, value in state_mackerels.items()], key = lambda x: x[1], reverse = True)"
   ]
  },
  {
   "cell_type": "code",
   "execution_count": 18,
   "metadata": {},
   "outputs": [
    {
     "data": {
      "text/plain": [
       "[('michigan', 11.25, 4),\n",
       " ('alabama', 10.649504471839498, 8274),\n",
       " ('hawaii', 10.482132728304027, 1763),\n",
       " ('indiana', 10.421161825726141, 482),\n",
       " ('alaska', 10.293417922283902, 1261),\n",
       " ('oklahoma', 10.13279132791328, 369),\n",
       " ('iowa', 10.064676616915422, 201),\n",
       " ('kansas', 9.915158371040723, 884),\n",
       " ('nevada', 9.804719283970709, 1229),\n",
       " ('delaware', 9.779448621553884, 399),\n",
       " ('utah', 9.511557637105303, 6619),\n",
       " ('maine', 9.428571428571429, 14),\n",
       " ('wisconsin', 9.266666666666667, 60),\n",
       " ('maryland', 9.253731343283581, 67),\n",
       " ('montana', 9.175925925925926, 648),\n",
       " ('virginia', 9.149532710280374, 107),\n",
       " ('oregon', 9.049853372434018, 682),\n",
       " ('northdakota', 8.925925925925926, 54),\n",
       " ('tennessee', 8.888722927557879, 1339),\n",
       " ('colorado', 8.862785862785863, 481),\n",
       " ('newyork', 8.761904761904763, 105),\n",
       " ('texas', 8.744913928012519, 639),\n",
       " ('ohio', 8.726415094339623, 11342),\n",
       " ('mississippi', 8.646720131606005, 4863),\n",
       " ('newmexico', 8.633333333333333, 30)]"
      ]
     },
     "execution_count": 18,
     "metadata": {},
     "output_type": "execute_result"
    }
   ],
   "source": [
    "# Average length of a mackerel for each state. \n",
    "avg_mackerel_lengths[:25]"
   ]
  },
  {
   "cell_type": "code",
   "execution_count": 19,
   "metadata": {},
   "outputs": [
    {
     "data": {
      "text/plain": [
       "18"
      ]
     },
     "execution_count": 19,
     "metadata": {},
     "output_type": "execute_result"
    }
   ],
   "source": [
    "# Number of states with no mackerels at all\n",
    "len([x for x in sorted_states if x[1] == 0])"
   ]
  },
  {
   "cell_type": "code",
   "execution_count": 20,
   "metadata": {},
   "outputs": [
    {
     "data": {
      "text/plain": [
       "9.366486724688773"
      ]
     },
     "execution_count": 20,
     "metadata": {},
     "output_type": "execute_result"
    }
   ],
   "source": [
    "# average length of all mackerels\n",
    "avg_len([x[1] for x in all_mackerels])"
   ]
  },
  {
   "cell_type": "code",
   "execution_count": 28,
   "metadata": {},
   "outputs": [
    {
     "data": {
      "image/png": "[encoded data removed]",
      "text/plain": [
       "<Figure size 576x720 with 1 Axes>"
      ]
     },
     "metadata": {
      "needs_background": "light"
     },
     "output_type": "display_data"
    }
   ],
   "source": [
    "plt.figure(num=None, figsize=(8, 10))\n",
    "plt.barh([state[0] for state in reversed(sorted_states) if state[1] > 0], \n",
    "         [state[1] for state in reversed(sorted_states) if state[1] > 0])\n",
    "plt.title(\"Number of mackerels by state\\n(Zero mackerel states omitted)\")\n",
    "plt.xlabel(\"Mackerels\")\n",
    "plt.show()"
   ]
  },
  {
   "cell_type": "code",
   "execution_count": 25,
   "metadata": {},
   "outputs": [],
   "source": [
    "counts = sorted(Counter([x[2] for x in all_mackerels]).items(), key = lambda x: x[0])"
   ]
  },
  {
   "cell_type": "code",
   "execution_count": 33,
   "metadata": {},
   "outputs": [
    {
     "data": {
      "image/png": "[encoded data removed]",
      "text/plain": [
       "<Figure size 720x432 with 1 Axes>"
      ]
     },
     "metadata": {
      "needs_background": "light"
     },
     "output_type": "display_data"
    }
   ],
   "source": [
    "plt.figure(num=None, figsize=(10, 6))\n",
    "plt.bar([x[0] for x in counts], [x[1] for x in counts])\n",
    "plt.title(\"Number of mackerels by length\")\n",
    "plt.ylabel(\"Frequency\")\n",
    "plt.xlabel(\"Length\")\n",
    "plt.show()"
   ]
  },
  {
   "cell_type": "code",
   "execution_count": null,
   "metadata": {},
   "outputs": [],
   "source": []
  }
 ],
 "metadata": {
  "kernelspec": {
   "display_name": "Python 3",
   "language": "python",
   "name": "python3"
  },
  "language_info": {
   "codemirror_mode": {
    "name": "ipython",
    "version": 3
   },
   "file_extension": ".py",
   "mimetype": "text/x-python",
   "name": "python",
   "nbconvert_exporter": "python",
   "pygments_lexer": "ipython3",
   "version": "3.7.7"
  }
 },
 "nbformat": 4,
 "nbformat_minor": 4
}
